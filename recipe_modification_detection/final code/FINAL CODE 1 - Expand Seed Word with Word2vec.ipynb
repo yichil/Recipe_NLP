{
 "cells": [
  {
   "cell_type": "code",
   "execution_count": 1,
   "metadata": {},
   "outputs": [],
   "source": [
    "import gensim\n",
    "import pandas as pd"
   ]
  },
  {
   "cell_type": "code",
   "execution_count": 2,
   "metadata": {},
   "outputs": [],
   "source": [
    "# seed words for addition\n",
    "AddSeed_list = ['add']\n",
    "\n",
    "# seed words for deletion\n",
    "DeleteSeed_list = ['remove', 'subtract', 'omit']\n",
    "\n",
    "# seed words for replacement\n",
    "ReplaceSeed_list = ['substitute', 'replace', 'instead']"
   ]
  },
  {
   "cell_type": "markdown",
   "metadata": {},
   "source": [
    "## Read in and do simple preprocessing to review text"
   ]
  },
  {
   "cell_type": "code",
   "execution_count": 3,
   "metadata": {},
   "outputs": [],
   "source": [
    "df = pd.read_csv('input_data/AllReviews_26thNov2019.csv')\n",
    "review_list = []\n",
    "for review in df['review_text']:\n",
    "    review_list.append(gensim.utils.simple_preprocess(review))"
   ]
  },
  {
   "cell_type": "markdown",
   "metadata": {},
   "source": [
    "## Train Word2Vec Model with Google Model Result as Initialization"
   ]
  },
  {
   "cell_type": "code",
   "execution_count": 4,
   "metadata": {},
   "outputs": [
    {
     "data": {
      "text/plain": [
       "(149894901, 206896570)"
      ]
     },
     "execution_count": 4,
     "metadata": {},
     "output_type": "execute_result"
    }
   ],
   "source": [
    "new_model = gensim.models.Word2Vec(min_count=5, size=300, window = 5)\n",
    "\n",
    "new_model.build_vocab(review_list)\n",
    "new_model.intersect_word2vec_format(\"input_data/GoogleNews-vectors-negative300.bin\", \n",
    "                                  binary=True, lockf=1.0)\n",
    "new_model.train(review_list, total_examples=len(review_list), epochs=new_model.epochs)"
   ]
  },
  {
   "cell_type": "markdown",
   "metadata": {},
   "source": [
    "## Expand the Seed Word List"
   ]
  },
  {
   "cell_type": "code",
   "execution_count": 5,
   "metadata": {},
   "outputs": [
    {
     "name": "stdout",
     "output_type": "stream",
     "text": [
      "similar words to the words in Addition Seed list:\n",
      "[('replace', 0.4866390526294708), ('use', 0.6703165173530579), ('eliminate', 0.5008467435836792), ('increase', 0.5632421970367432), ('added', 0.6035432815551758), ('ad', 0.5459101796150208), ('adding', 0.5992623567581177), ('omit', 0.5326415300369263), ('substitute', 0.5167902112007141), ('include', 0.5351263880729675)]\n"
     ]
    }
   ],
   "source": [
    "# Addition: top similar words to the words in our seed list\n",
    "top_similar_add = list(set(new_model.wv.most_similar(positive=AddSeed_list, topn=10)))\n",
    "print(\"similar words to the words in Addition Seed list:\")\n",
    "print(top_similar_add)"
   ]
  },
  {
   "cell_type": "code",
   "execution_count": 6,
   "metadata": {},
   "outputs": [
    {
     "name": "stdout",
     "output_type": "stream",
     "text": [
      "similar words to the words in Deletion Seed list:\n",
      "[('discard', 0.5125858783721924), ('eliminate', 0.6815260648727417), ('leave', 0.5072888135910034), ('increase', 0.4705949127674103), ('skip', 0.536050021648407), ('add', 0.47948920726776123), ('nix', 0.4743996262550354), ('drain', 0.47148722410202026), ('choose', 0.46553415060043335), ('delete', 0.701276421546936)]\n"
     ]
    }
   ],
   "source": [
    "# Deletion: top similar words to the words in our seed list\n",
    "top_similar_delete = list(set(new_model.wv.most_similar(positive=DeleteSeed_list, topn=10)))\n",
    "print(\"similar words to the words in Deletion Seed list:\")\n",
    "print(top_similar_delete)"
   ]
  },
  {
   "cell_type": "code",
   "execution_count": 7,
   "metadata": {},
   "outputs": [
    {
     "name": "stdout",
     "output_type": "stream",
     "text": [
      "similar words to the words in Replacement Seed list:\n",
      "[('lieu', 0.510610818862915), ('replaced', 0.5776525139808655), ('substitue', 0.6454289555549622), ('sub', 0.7224389314651489), ('place', 0.5112087726593018), ('omit', 0.5549572706222534), ('subbed', 0.5459792017936707), ('substitued', 0.5180657505989075), ('substituted', 0.5913184881210327), ('subsitute', 0.5261411666870117)]\n"
     ]
    }
   ],
   "source": [
    "# Replacement: top similar words to the words in our seed list\n",
    "top_similar_replace = list(set(new_model.wv.most_similar(positive=ReplaceSeed_list, topn=10)))\n",
    "print(\"similar words to the words in Replacement Seed list:\")\n",
    "print(top_similar_replace)"
   ]
  }
 ],
 "metadata": {
  "kernelspec": {
   "display_name": "Python 3",
   "language": "python",
   "name": "python3"
  },
  "language_info": {
   "codemirror_mode": {
    "name": "ipython",
    "version": 3
   },
   "file_extension": ".py",
   "mimetype": "text/x-python",
   "name": "python",
   "nbconvert_exporter": "python",
   "pygments_lexer": "ipython3",
   "version": "3.7.3"
  }
 },
 "nbformat": 4,
 "nbformat_minor": 4
}
