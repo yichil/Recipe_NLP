{
 "cells": [
  {
   "cell_type": "code",
   "execution_count": 1,
   "metadata": {},
   "outputs": [],
   "source": [
    "import gensim\n",
    "import pandas as pd"
   ]
  },
  {
   "cell_type": "code",
   "execution_count": 2,
   "metadata": {},
   "outputs": [],
   "source": [
    "# seed words for addition\n",
    "AddSeed_list = ['add']\n",
    "\n",
    "# seed words for deletion\n",
    "DeleteSeed_list = ['remove', 'subtract', \n",
    "                   # 'had no', 'not have', 'left out', 'left off', 'bother with',\n",
    "                   'omit']\n",
    "\n",
    "# seed words for replacement\n",
    "ReplaceSeed_list = ['substitute', 'replace', 'instead']"
   ]
  },
  {
   "cell_type": "code",
   "execution_count": 3,
   "metadata": {},
   "outputs": [],
   "source": [
    "df = pd.read_csv('/Users/nessyliu/Desktop/RA/part_2/review_with_ingre_df.csv')\n",
    "review_list = []\n",
    "for review in df['review_text']:\n",
    "    review_list.append(gensim.utils.simple_preprocess(review))"
   ]
  },
  {
   "cell_type": "code",
   "execution_count": 4,
   "metadata": {},
   "outputs": [
    {
     "data": {
      "text/plain": [
       "(3395643, 4747445)"
      ]
     },
     "execution_count": 4,
     "metadata": {},
     "output_type": "execute_result"
    }
   ],
   "source": [
    "new_model = gensim.models.Word2Vec(min_count=5, size=300, window = 5)\n",
    "\n",
    "new_model.build_vocab(review_list)\n",
    "new_model.intersect_word2vec_format(\"/Users/nessyliu/Desktop/RA/GoogleNews-vectors-negative300.bin\", \n",
    "                                  binary=True, lockf=1.0)\n",
    "new_model.train(review_list, total_examples=len(review_list), epochs=new_model.epochs)"
   ]
  },
  {
   "cell_type": "code",
   "execution_count": 5,
   "metadata": {},
   "outputs": [
    {
     "name": "stdout",
     "output_type": "stream",
     "text": [
      "similar words to the words in Addition Seed list:\n",
      "[('added', 0.5813590288162231), ('increase', 0.49353301525115967), ('saute', 0.445553719997406), ('put', 0.49029433727264404), ('omit', 0.5609155893325806), ('infuse', 0.45003223419189453), ('adding', 0.5920419692993164), ('reduce', 0.5340219736099243), ('use', 0.653100848197937), ('incorporate', 0.44542139768600464)]\n"
     ]
    }
   ],
   "source": [
    "# top similar words to the words in our seed list\n",
    "top_similar_add = list(set(new_model.wv.most_similar(positive=AddSeed_list, topn=10)))\n",
    "print(\"similar words to the words in Addition Seed list:\")\n",
    "print(top_similar_add)"
   ]
  },
  {
   "cell_type": "code",
   "execution_count": 6,
   "metadata": {},
   "outputs": [
    {
     "name": "stdout",
     "output_type": "stream",
     "text": [
      "similar words to the words in Deletion Seed list:\n",
      "[('delete', 0.5371592044830322), ('adjust', 0.4925497770309448), ('omitting', 0.5160988569259644), ('skip', 0.5312944650650024), ('increase', 0.46973520517349243), ('eliminate', 0.5834304094314575), ('modify', 0.471990704536438), ('reduce', 0.5470548868179321), ('drain', 0.4644508957862854), ('add', 0.49948376417160034)]\n"
     ]
    }
   ],
   "source": [
    "# top similar words to the words in our seed list\n",
    "top_similar_delete = list(set(new_model.wv.most_similar(positive=DeleteSeed_list, topn=10)))\n",
    "print(\"similar words to the words in Deletion Seed list:\")\n",
    "print(top_similar_delete)"
   ]
  },
  {
   "cell_type": "code",
   "execution_count": 7,
   "metadata": {},
   "outputs": [
    {
     "name": "stdout",
     "output_type": "stream",
     "text": [
      "similar words to the words in Replacement Seed list:\n",
      "[('substituting', 0.5792735815048218), ('place', 0.4641188979148865), ('replacing', 0.48274800181388855), ('omited', 0.43311649560928345), ('omit', 0.5041619539260864), ('substituted', 0.5930771827697754), ('replaced', 0.5293541550636292), ('subbed', 0.4638950228691101), ('sub', 0.49456578493118286), ('use', 0.4697216749191284)]\n"
     ]
    }
   ],
   "source": [
    "# top similar words to the words in our seed list\n",
    "top_similar_replace = list(set(new_model.wv.most_similar(positive=ReplaceSeed_list, topn=10)))\n",
    "print(\"similar words to the words in Replacement Seed list:\")\n",
    "print(top_similar_replace)"
   ]
  }
 ],
 "metadata": {
  "kernelspec": {
   "display_name": "Python 3",
   "language": "python",
   "name": "python3"
  },
  "language_info": {
   "codemirror_mode": {
    "name": "ipython",
    "version": 3
   },
   "file_extension": ".py",
   "mimetype": "text/x-python",
   "name": "python",
   "nbconvert_exporter": "python",
   "pygments_lexer": "ipython3",
   "version": "3.7.3"
  }
 },
 "nbformat": 4,
 "nbformat_minor": 4
}
